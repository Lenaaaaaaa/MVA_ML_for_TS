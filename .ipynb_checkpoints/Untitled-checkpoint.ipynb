{
 "cells": [
  {
   "cell_type": "code",
   "execution_count": 1,
   "metadata": {},
   "outputs": [],
   "source": [
    "import numpy as np\n"
   ]
  },
  {
   "cell_type": "code",
   "execution_count": 19,
   "metadata": {},
   "outputs": [],
   "source": [
    "class MTS:   \n",
    "    def __init__(self, ts):\n",
    "             self.ts = ts\n",
    "            \n",
    "    def cov_mat(self, centering = True):\n",
    "        X = self.ts\n",
    "        if centering:\n",
    "            X = (self.ts - (self.ts).mean(axis = 0))\n",
    "        return X.transpose() @ X"
   ]
  },
  {
   "cell_type": "code",
   "execution_count": 5,
   "metadata": {},
   "outputs": [],
   "source": [
    "X = np.random.random((100,4))"
   ]
  }
 ],
 "metadata": {
  "kernelspec": {
   "display_name": "stat_app",
   "language": "python",
   "name": "stat_app"
  },
  "language_info": {
   "codemirror_mode": {
    "name": "ipython",
    "version": 3
   },
   "file_extension": ".py",
   "mimetype": "text/x-python",
   "name": "python",
   "nbconvert_exporter": "python",
   "pygments_lexer": "ipython3",
   "version": "3.8.5"
  }
 },
 "nbformat": 4,
 "nbformat_minor": 4
}
