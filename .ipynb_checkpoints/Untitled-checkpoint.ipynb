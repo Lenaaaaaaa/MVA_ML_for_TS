{
 "cells": [
  {
   "cell_type": "code",
   "execution_count": 1,
   "metadata": {},
   "outputs": [],
   "source": [
    "import numpy as np\n"
   ]
  },
  {
   "cell_type": "code",
   "execution_count": 19,
   "metadata": {},
   "outputs": [],
   "source": [
    "class MTS:   \n",
    "    def __init__(self, ts):\n",
    "             self.ts = ts\n",
    "            \n",
    "    def cov_mat(self, centering = True):\n",
    "        X = self.ts\n",
    "        if centering:\n",
    "            X = (self.ts - (self.ts).mean(axis = 0))\n",
    "        return X.transpose() @ X"
   ]
  },
  {
   "cell_type": "code",
   "execution_count": 145,
   "metadata": {},
   "outputs": [],
   "source": [
    "class CPCA:\n",
    "    def __init__(self, epsilon = 1e-5):\n",
    "        self.cov = None\n",
    "        self.epsilon = epsilon\n",
    "        self.U = None\n",
    "        self.V = None\n",
    "        self.S = None\n",
    "    \n",
    "    def fit(self,listMTS):\n",
    "        P = listMTS[0].cov_mat().shape[1]\n",
    "        cov_mat = [mat.cov_mat() for mat in listMTS]\n",
    "        self.cov = sum(cov_mat)/len(cov_mat)\n",
    "        #Add epsilon Id in order to ensure invertibility\n",
    "        cov = self.cov + self.epsilon*np.eye(P)\n",
    "        #Compute SVD\n",
    "        U,S,V = np.linalg.svd(self.cov)\n",
    "        #Save SVD\n",
    "        self.U = U\n",
    "        self.S = S\n",
    "        self.V = V\n",
    "        \n",
    "    def pred(self, listMTS, ncp):\n",
    "        predicted = [elem.ts @ self.U[:,:ncp] for elem in listMTS]\n",
    "        return predicted\n",
    "    \n",
    "    def reconstitution_error(self, listMTS, ncp):\n",
    "        prediction = self.pred(listMTS, ncp)\n",
    "        reconstit = [elem @ ((self.U)[:,:ncp].transpose()) for elem in prediction]\n",
    "        mse = [((listMTS[i].ts - reconstit[i])**2).sum() for i in range(len(prediction))]\n",
    "        return mse"
   ]
  }
 ],
 "metadata": {
  "kernelspec": {
   "display_name": "stat_app",
   "language": "python",
   "name": "stat_app"
  },
  "language_info": {
   "codemirror_mode": {
    "name": "ipython",
    "version": 3
   },
   "file_extension": ".py",
   "mimetype": "text/x-python",
   "name": "python",
   "nbconvert_exporter": "python",
   "pygments_lexer": "ipython3",
   "version": "3.8.5"
  }
 },
 "nbformat": 4,
 "nbformat_minor": 4
}
